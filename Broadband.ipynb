{
 "cells": [
  {
   "cell_type": "markdown",
   "id": "4edc51d2-f166-4a07-ba15-72d771f2d743",
   "metadata": {},
   "source": [
    "## Examining the internet broadband availability "
   ]
  },
  {
   "cell_type": "code",
   "execution_count": 80,
   "id": "242fcc26-b017-412a-92fb-984d51e80d16",
   "metadata": {},
   "outputs": [
    {
     "name": "stdout",
     "output_type": "stream",
     "text": [
      "/Users/steven/Jupyter\n"
     ]
    }
   ],
   "source": [
    "# Import the libraries\n",
    "import pandas as pd\n",
    "import numpy as np\n",
    "\n",
    "import os\n",
    "\n",
    "# Get the current working directory\n",
    "current_dir = os.getcwd() \n",
    "print(current_dir)"
   ]
  },
  {
   "cell_type": "markdown",
   "id": "ab37e522-3904-4c34-b9f6-d19d1c719b7a",
   "metadata": {},
   "source": [
    "**We can use the keys keyword argument, passing a list of strings that'll serve as the outer-layer names for our data frame, serving as a reminder of which original data frame each set of data came from.**"
   ]
  },
  {
   "cell_type": "code",
   "execution_count": 129,
   "id": "da5b4624-dfab-4584-8aa7-072609cb5a6d",
   "metadata": {},
   "outputs": [],
   "source": [
    "filename = '1-5-fixed-and-mobile-broadband-penetration.xls'\n",
    "\n",
    "df = pd.concat([one_sheet.T for\n",
    "         one_sheet in pd.read_excel(filename, \n",
    "                            sheet_name=[0,1],\n",
    "                            header=3,\n",
    "                            index_col=0,\n",
    "                            nrows=38,\n",
    "                            na_values='..').values()],\n",
    "    keys=['fixed', 'mobile'],\n",
    "    axis='columns')"
   ]
  },
  {
   "cell_type": "markdown",
   "id": "4de66c00-f4d1-41ce-9f11-2ad52bd1babe",
   "metadata": {},
   "source": [
    "**This is great, except that we now have a list of two data frames, and we actually want them to be in a single data frame. Normally, we can combine data frames with pd.concat, and we can combine them horizontally with axis='columns'. However, we want a multi-index separating the fixed from mobile values. How can we do that?**"
   ]
  },
  {
   "cell_type": "code",
   "execution_count": 130,
   "id": "dd22edfc-b71b-4a79-94e6-5bca24872e06",
   "metadata": {},
   "outputs": [],
   "source": [
    "df.index = [pd.to_datetime(one_index\n",
    "                           .replace('Q2-', '30-06-')\n",
    "                           .replace('Q4-', '31-12-'), dayfirst=True)\n",
    "                     for one_index in df.index]"
   ]
  },
  {
   "cell_type": "markdown",
   "id": "41d4f4fc-696d-40f3-83c7-39a678f41c24",
   "metadata": {},
   "source": [
    "**Get the mean() number of fixed broadband users per country, in all of 2023. Which five countries have the greatest number per 100 people? How about mobile broadband? Is there any overlap between these two lists of countries?**"
   ]
  },
  {
   "cell_type": "code",
   "execution_count": 131,
   "id": "de94ae14-9b78-441f-8942-bdeb11ca0dfe",
   "metadata": {},
   "outputs": [
    {
     "name": "stdout",
     "output_type": "stream",
     "text": [
      "Japan            201.515\n",
      "United States    186.560\n",
      "Estonia          183.710\n",
      "Finland          160.410\n",
      "Israel           145.900\n",
      "dtype: float64\n"
     ]
    }
   ],
   "source": [
    "# The five largest countries per 100 people for fixed\n",
    "\n",
    "df_2023_fixed = (df.loc['2023', 'fixed'].mean()).nlargest(5)\n",
    "\n",
    "print(df_2023)"
   ]
  },
  {
   "cell_type": "code",
   "execution_count": 132,
   "id": "64af156e-2cf5-4a84-bef9-5290b676d3aa",
   "metadata": {},
   "outputs": [
    {
     "name": "stdout",
     "output_type": "stream",
     "text": [
      "Japan            201.515\n",
      "United States    186.560\n",
      "Estonia          183.710\n",
      "Finland          160.410\n",
      "Israel           145.900\n",
      "dtype: float64\n"
     ]
    }
   ],
   "source": [
    "# The five largest countries per 100 people for mobile\n",
    "\n",
    "df_2023_mobile = (df.loc['2023', 'mobile'].mean()).nlargest(5)\n",
    "\n",
    "print(df_2023)"
   ]
  },
  {
   "cell_type": "code",
   "execution_count": 133,
   "id": "68b24c47-44dd-410a-9a84-2ad564a4517d",
   "metadata": {},
   "outputs": [
    {
     "data": {
      "text/plain": [
       "Index([], dtype='object')"
      ]
     },
     "execution_count": 133,
     "metadata": {},
     "output_type": "execute_result"
    }
   ],
   "source": [
    "# Find the intersection of the top 5 countries between fixed and mobile using 'intersection'\n",
    "# This method uses the one data set\n",
    "(\n",
    "    df.loc['2023', 'fixed']\n",
    "    .mean()\n",
    "    .nlargest(5)\n",
    "    .index\n",
    "    .intersection(\n",
    "        df.loc['2023', 'mobile']\n",
    "        .mean()\n",
    "        .nlargest(5)\n",
    "        .index\n",
    "    )\n",
    ")"
   ]
  },
  {
   "cell_type": "code",
   "execution_count": 134,
   "id": "2cb3e4f5-5b3d-409c-aa26-3fcf36846316",
   "metadata": {},
   "outputs": [
    {
     "data": {
      "text/plain": [
       "set()"
      ]
     },
     "execution_count": 134,
     "metadata": {},
     "output_type": "execute_result"
    }
   ],
   "source": [
    "# Find the intersection of the top 5 countries between fixed and mobile using 'set' \n",
    "# This uses the 2 different data sets\n",
    "set(df_2023_fixed) & set(df_2023_mobile)"
   ]
  },
  {
   "cell_type": "markdown",
   "id": "70183824-6538-4554-8e10-50703b586664",
   "metadata": {},
   "source": [
    "**There are no countries that overlap in either methods!**"
   ]
  },
  {
   "cell_type": "markdown",
   "id": "c0209bd7-3c77-4353-bfa8-fff6cac6810a",
   "metadata": {},
   "source": [
    "**For each country, find the year in which the mobile broadband penetration grew the greatest amount (by percentage), year over year. Plot this as a histogram, to see the number of countries with greatest growth per year.**"
   ]
  },
  {
   "cell_type": "code",
   "execution_count": 135,
   "id": "8f0c98b0-c65c-4229-b87c-68e62962ac0d",
   "metadata": {},
   "outputs": [
    {
     "data": {
      "text/plain": [
       "<Axes: ylabel='Frequency'>"
      ]
     },
     "execution_count": 135,
     "metadata": {},
     "output_type": "execute_result"
    },
    {
     "data": {
      "image/png": "[encoded data removed]",
      "text/plain": [
       "<Figure size 640x480 with 1 Axes>"
      ]
     },
     "metadata": {},
     "output_type": "display_data"
    }
   ],
   "source": [
    "colors = ['green']\n",
    "(\n",
    "    df['mobile'] # Use only the mobile data\n",
    "    .resample('1YE').mean() #Use '1YE' so that it will combine the quarters\n",
    "    .pct_change() # Use the .pct_change to see percentage growth\n",
    "    .idxmax()\n",
    "    .dt.year\n",
    "    .plot.hist(density = True, color = colors)\n",
    ")\n",
    "# Notice there are only years now instead of quarters"
   ]
  },
  {
   "cell_type": "markdown",
   "id": "04270f5d-6009-4c28-8b6b-815302b43543",
   "metadata": {},
   "source": [
    "**How many countries have more than 100% mobile penetration in a given quarter?**"
   ]
  },
  {
   "cell_type": "code",
   "execution_count": 136,
   "id": "3e50de5a-f1e0-4036-86fa-96bce5bc19d1",
   "metadata": {},
   "outputs": [
    {
     "data": {
      "text/plain": [
       "Canada              0\n",
       "Belgium             0\n",
       "Colombia            0\n",
       "Greece              0\n",
       "Hungary             0\n",
       "Germany             0\n",
       "Slovak Republic     0\n",
       "Italy               0\n",
       "Mexico              0\n",
       "Slovenia            0\n",
       "Türkiye             0\n",
       "Portugal            1\n",
       "Costa Rica          2\n",
       "France              4\n",
       "Czechia             4\n",
       "Chile               6\n",
       "United Kingdom      9\n",
       "Luxembourg         10\n",
       "Lithuania          10\n",
       "Austria            10\n",
       "Spain              10\n",
       "Switzerland        10\n",
       "Israel             11\n",
       "Netherlands        12\n",
       "Poland             12\n",
       "Norway             12\n",
       "New Zealand        13\n",
       "Latvia             13\n",
       "Iceland            16\n",
       "Estonia            19\n",
       "United States      19\n",
       "Denmark            21\n",
       "Finland            22\n",
       "Japan              22\n",
       "Australia          23\n",
       "Sweden             24\n",
       "Korea              25\n",
       "Ireland            29\n",
       "dtype: int64"
      ]
     },
     "execution_count": 136,
     "metadata": {},
     "output_type": "execute_result"
    }
   ],
   "source": [
    "(\n",
    "    (df['mobile'] > 100)\n",
    "    .sum()\n",
    "    .sort_values()\n",
    ")"
   ]
  },
  {
   "cell_type": "markdown",
   "id": "f89740fa-2fd0-4462-a9d0-15fe6b93751b",
   "metadata": {},
   "source": [
    "**Have there been cases where there is a decrease in mobile broadband?**"
   ]
  },
  {
   "cell_type": "code",
   "execution_count": 137,
   "id": "4a59ca50-253b-4384-8f7b-536406491e7b",
   "metadata": {},
   "outputs": [
    {
     "data": {
      "text/plain": [
       "2010-06-30  Greece       -0.069467\n",
       "            Spain        -0.015761\n",
       "2010-12-31  Israel       -0.008108\n",
       "            Luxembourg   -0.019823\n",
       "            Mexico       -1.000000\n",
       "                            ...   \n",
       "2023-12-31  Norway       -0.009982\n",
       "            Poland       -0.009420\n",
       "            Spain        -0.000893\n",
       "            Sweden       -0.029900\n",
       "            Türkiye      -0.005983\n",
       "Length: 160, dtype: float64"
      ]
     },
     "execution_count": 137,
     "metadata": {},
     "output_type": "execute_result"
    }
   ],
   "source": [
    "(\n",
    "    df['mobile']\n",
    "    .pct_change()\n",
    "    .stack() # Reshapes the dataframe \n",
    "    .loc[lambda x: x < 0] # less than zero will show a negative growth rate. Also 'x' is the row I could have used a more descriptive name\n",
    ")"
   ]
  },
  {
   "cell_type": "markdown",
   "id": "74eba9e8-f5c4-4e97-876e-2fb5d7b8a8e1",
   "metadata": {},
   "source": [
    "### That's it!!"
   ]
  },
  {
   "cell_type": "code",
   "execution_count": null,
   "id": "8a71dcf6-4841-4ee7-a195-a9fb16a2eef0",
   "metadata": {},
   "outputs": [],
   "source": []
  }
 ],
 "metadata": {
  "kernelspec": {
   "display_name": "Python 3 (ipykernel)",
   "language": "python",
   "name": "python3"
  },
  "language_info": {
   "codemirror_mode": {
    "name": "ipython",
    "version": 3
   },
   "file_extension": ".py",
   "mimetype": "text/x-python",
   "name": "python",
   "nbconvert_exporter": "python",
   "pygments_lexer": "ipython3",
   "version": "3.12.4"
  }
 },
 "nbformat": 4,
 "nbformat_minor": 5
}
